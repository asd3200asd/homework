{
 "cells": [
  {
   "cell_type": "code",
   "execution_count": null,
   "metadata": {
    "colab": {
     "autoexec": {
      "startup": false,
      "wait_interval": 0
     },
     "base_uri": "https://localhost:8080/",
     "height": 34
    },
    "colab_type": "code",
    "executionInfo": {
     "elapsed": 1805,
     "status": "ok",
     "timestamp": 1526996182913,
     "user": {
      "displayName": "Chih-Chung Hsu",
      "photoUrl": "https://lh3.googleusercontent.com/a/default-user=s128",
      "userId": "102019799566568636181"
     },
     "user_tz": -480
    },
    "id": "gX3SX-Y5Kh1A",
    "outputId": "e06f16f9-b793-4a3f-bbb4-d01d17ae0cce"
   },
   "outputs": [],
   "source": [
    "# !rm *\n",
    "# !wget http://140.114.28.196/file/train.zip \n",
    "# !wget http://140.114.28.196/file/val.zip \n",
    "# !wget http://140.114.28.196/file/train.txt\n",
    "# !unzip -q train.zip\n",
    "# !unzip -q -f val.zip\n",
    "\n",
    "# !ls"
   ]
  },
  {
   "cell_type": "code",
   "execution_count": null,
   "metadata": {
    "colab": {
     "autoexec": {
      "startup": false,
      "wait_interval": 0
     },
     "base_uri": "https://localhost:8080/",
     "height": 255
    },
    "colab_type": "code",
    "executionInfo": {
     "elapsed": 6495,
     "status": "ok",
     "timestamp": 1526996189421,
     "user": {
      "displayName": "Chih-Chung Hsu",
      "photoUrl": "https://lh3.googleusercontent.com/a/default-user=s128",
      "userId": "102019799566568636181"
     },
     "user_tz": -480
    },
    "id": "Hr6uu3lMzh0M",
    "outputId": "02cbe374-dd06-462d-d428-d898547d21d9"
   },
   "outputs": [],
   "source": [
    "import tensorflow as tf\n",
    "import numpy as np\n",
    "import os, pdb\n",
    "import cv2\n",
    "import numpy as np\n",
    "import random as rn\n",
    "import tensorflow as tf\n",
    "import threading\n",
    "import time\n",
    "\n",
    "global n_classes, layer_count \n",
    "n_classes = 100\n",
    "layer_count = 0\n",
    "\n",
    "'''\n",
    "LOG_DIR = '/tmp/log2'\n",
    "get_ipython().system_raw(\n",
    "    'tensorboard --logdir {} --host 0.0.0.0 --port 6006 &'\n",
    "    .format(LOG_DIR)\n",
    ")\n",
    "\n",
    "#======================Only needed in colab===================================\n",
    "!wget https://bin.equinox.io/c/4VmDzA7iaHb/ngrok-stable-linux-amd64.zip\n",
    "!unzip -o ngrok-stable-linux-amd64.zip\n",
    "get_ipython().system_raw('./ngrok http 6006 &')\n",
    "!curl -s http://localhost:4040/api/tunnels | python3 -c \\\n",
    "    \"import sys, json; print(json.load(sys.stdin)['tunnels'][0]['public_url'])\"\n",
    "#======================Only needed in colab===================================\n",
    "'''"
   ]
  },
  {
   "cell_type": "code",
   "execution_count": null,
   "metadata": {
    "colab": {
     "autoexec": {
      "startup": false,
      "wait_interval": 0
     }
    },
    "colab_type": "code",
    "id": "tCNUC9U1zh0U"
   },
   "outputs": [],
   "source": [
    "#==========================================================================\n",
    "#=============Reading data in multithreading manner========================\n",
    "#==========================================================================\n",
    "def read_labeled_image_list(image_list_file, training_img_dir):\n",
    "    \"\"\"Reads a .txt file containing pathes and labeles\n",
    "    Args:\n",
    "       image_list_file: a .txt file with one /path/to/image per line\n",
    "       label: optionally, if set label will be pasted after each line\n",
    "    Returns:\n",
    "       List with all filenames in file image_list_file\n",
    "    \"\"\"\n",
    "    f = open(image_list_file, 'r')\n",
    "    filenames = []\n",
    "    labels = []\n",
    "\n",
    "    for line in f:\n",
    "        filename, label = line[:-1].split(' ')\n",
    "        filename = training_img_dir+filename\n",
    "        filenames.append(filename)\n",
    "        labels.append(int(label))\n",
    "        \n",
    "    return filenames, labels\n",
    "    \n",
    "    \n",
    "def read_images_from_disk(input_queue, size1=256):\n",
    "    \"\"\"Consumes a single filename and label as a ' '-delimited string.\n",
    "    Args:\n",
    "      filename_and_label_tensor: A scalar string tensor.\n",
    "    Returns:\n",
    "      Two tensors: the decoded image, and the string label.\n",
    "    \"\"\"\n",
    "    label = input_queue[1]\n",
    "    fn=input_queue[0]\n",
    "    file_contents = tf.read_file(input_queue[0])\n",
    "    example = tf.image.decode_jpeg(file_contents, channels=3)\n",
    "    \n",
    "    #example = tf.image.decode_png(file_contents, channels=3, name=\"dataset_image\") # png fo rlfw\n",
    "    example=tf.image.resize_images(example, [size1,size1])\n",
    "    return example, label, fn\n",
    "\n",
    "def setup_inputs(sess, filenames, training_img_dir, image_size=256, crop_size=224, isTest=False, batch_size=64):\n",
    "    \n",
    "    # Read each image file\n",
    "    image_list, label_list = read_labeled_image_list(filenames, training_img_dir)\n",
    "\n",
    "    images = tf.cast(image_list, tf.string)\n",
    "    labels = tf.cast(label_list, tf.int64)\n",
    "     # Makes an input queue\n",
    "    if isTest is False:\n",
    "        isShuffle = True\n",
    "        numThr = 4\n",
    "    else:\n",
    "        isShuffle = False\n",
    "        numThr = 1\n",
    "        \n",
    "    input_queue = tf.train.slice_input_producer([images, labels], shuffle=isShuffle)\n",
    "    image, y,fn = read_images_from_disk(input_queue)\n",
    "\n",
    "    channels = 3\n",
    "    image.set_shape([None, None, channels])\n",
    "        \n",
    "    # Crop and other random augmentations\n",
    "    if isTest is False:\n",
    "        image = tf.image.random_flip_left_right(image)\n",
    "        image = tf.image.random_flip_up_down(image)\n",
    "        image = tf.image.random_hue(image,0.05)\n",
    "        image = tf.image.random_saturation(image, .95, 1.05)\n",
    "        image = tf.image.random_brightness(image, .05)\n",
    "        image = tf.image.random_contrast(image, .95, 1.05)\n",
    "    \n",
    "        \n",
    "\n",
    "    image = tf.random_crop(image, [crop_size, crop_size, 3])\n",
    "    image = tf.cast(image, tf.float32)/255.0\n",
    "    \n",
    "    image, y,fn = tf.train.batch([image, y, fn], batch_size=batch_size, capacity=batch_size*3, num_threads=numThr, name='labels_and_images')\n",
    "\n",
    "    tf.train.start_queue_runners(sess=sess)\n",
    "\n",
    "    return image, y, fn, len(label_list)\n"
   ]
  },
  {
   "cell_type": "code",
   "execution_count": null,
   "metadata": {
    "colab": {
     "autoexec": {
      "startup": false,
      "wait_interval": 0
     }
    },
    "colab_type": "code",
    "id": "zyjBt-MqVce6"
   },
   "outputs": [],
   "source": [
    "def initializer(in_filters, out_filters,name='wb', ks=3):\n",
    "    W = tf.get_variable(name+\"W\", [3,3, in_filters,out_filters], initializer=tf.truncated_normal_initializer())\n",
    "    b = tf.get_variable(name+\"B\", [out_filters], initializer=tf.truncated_normal_initializer())\n",
    "    return W, b\n",
    "\n",
    "def activation(x,name=\"activation\"):\n",
    "    return tf.nn.relu(x, name=name)\n",
    "    \n",
    "def conv2d(name, l_input, w, b, s, p):\n",
    "    l_input = tf.nn.conv2d(l_input, w, strides=[1,s,s,1], padding=p, name=name)\n",
    "    l_input = l_input+b\n",
    "\n",
    "    return l_input\n",
    "\n",
    "def max_pool(name, l_input, k, s):\n",
    "    return tf.nn.max_pool(l_input, ksize=[1, k, k, 1], strides=[1, s, s, 1], padding='VALID', name=name)\n",
    "\n",
    "def batchnorm(conv, isTraining, name='bn'):\n",
    "    return tf.layers.batch_normalization(conv, momentum = 0.997, training=isTraining, name=\"bn\"+name)\n"
   ]
  },
  {
   "cell_type": "code",
   "execution_count": null,
   "metadata": {
    "colab": {
     "autoexec": {
      "startup": false,
      "wait_interval": 0
     }
    },
    "colab_type": "code",
    "id": "94VSiHqhzh0S"
   },
   "outputs": [],
   "source": [
    "\n",
    "  \n",
    "def residual_block(in_x, in_filters, out_filters, stride, tst, name):\n",
    "    # first convolution layer\n",
    "    global layer_count\n",
    "  \n",
    "    ##\"How to have skip connection?\"\n",
    "    \n",
    "    if in_filters != out_filters:\n",
    "#         \n",
    "        return identity + x \n",
    "    else:\n",
    "        return in_x + x\n",
    "\n",
    "      \n",
    "def ResNet(_X, tst):\n",
    "    global n_classes\n",
    "    w1 = tf.get_variable(\"firstW\", [7,7,3, 64], initializer=tf.truncated_normal_initializer())\n",
    "    b1 = tf.get_variable(\"firstB\", [64], initializer=tf.truncated_normal_initializer())\n",
    "    \n",
    "    x = conv2d('conv1', _X, w1, b1, 3, \"VALID\")\n",
    "    x = batchnorm(x, tst, name='sbn')\n",
    "    x= tf.nn.relu(x)\n",
    "    \n",
    "    filters_num = [64,128,256,512]\n",
    "    block_num = [3,4,6,3]\n",
    "    strides=[1,1,1,1]\n",
    "    l_cnt = 1\n",
    "    for i in range(len(filters_num)):\n",
    "      for j in range(block_num[i]):\n",
    "          x = residual_block(x, filters_num[i], filters_num[i], strides[i], tst, 'RB%d_%d'%(i,j))\n",
    "          print('[L-%d] Build %dth residual block %d with %d channels' % (l_cnt,i, j, filters_num[i]))\n",
    "          l_cnt +=1\n",
    "          if ((j==block_num[i]-1) & (i<len(filters_num)-1)):\n",
    "            x = batchnorm(x, tst, name='RB_bn%d_%d'%(i,j))\n",
    "            w1, b1 = initializer(filters_num[i], filters_num[i+1], name='RB_pool%d_%d'%(i,j))\n",
    "            x = conv2d('RB_pool%d_%d'%(i,j), x, w1, b1, 2, \"VALID\")\n",
    "            x = activation(x)\n",
    "            print('[L-%d] Build %dth connection layer %d from %d to %d channels' % (l_cnt, i, j, filters_num[i], filters_num[i+1]))\n",
    "            l_cnt +=1\n",
    "\n",
    "    wo, bo=initializer(filters_num[-1], n_classes, name='final_wb')\n",
    "    x = conv2d('final', x, wo, bo, 1, \"SAME\")\n",
    "    x = batchnorm(x, tst, name=\"final_bn1\")\n",
    "    x = activation(x, name='final_act')\n",
    "    \n",
    "    x = tf.reduce_mean(x, [1,2]) #b x7 x 7 x 50 ==> b x 1 x 1 x 50==>b x 50 ==> b x 50\n",
    "    W = tf.get_variable(\"FinalW\", [n_classes, n_classes], initializer=tf.truncated_normal_initializer())\n",
    "    b = tf.get_variable(\"FinalB\", [n_classes], initializer=tf.truncated_normal_initializer())\n",
    "    \n",
    "    out = tf.matmul(x, W) + b\n",
    "                            \n",
    "\n",
    "    return out"
   ]
  },
  {
   "cell_type": "code",
   "execution_count": null,
   "metadata": {
    "colab": {
     "autoexec": {
      "startup": false,
      "wait_interval": 0
     }
    },
    "colab_type": "code",
    "id": "h7AtFd4czh0W"
   },
   "outputs": [],
   "source": [
    "batch_size = 64\n",
    "display_step = 80\n",
    "learning_rate = tf.placeholder(tf.float32)      # Learning rate to be fed\n",
    "lr = 1e-3              # Learning rate start\n",
    "tst = tf.placeholder(tf.bool)"
   ]
  },
  {
   "cell_type": "code",
   "execution_count": null,
   "metadata": {
    "colab": {
     "autoexec": {
      "startup": false,
      "wait_interval": 0
     },
     "base_uri": "https://localhost:8080/",
     "height": 306
    },
    "colab_type": "code",
    "executionInfo": {
     "elapsed": 14118,
     "status": "ok",
     "timestamp": 1526996208162,
     "user": {
      "displayName": "Chih-Chung Hsu",
      "photoUrl": "https://lh3.googleusercontent.com/a/default-user=s128",
      "userId": "102019799566568636181"
     },
     "user_tz": -480
    },
    "id": "7LCc7xsQzh0Y",
    "outputId": "e389579f-4b1e-44ba-d0f0-6450d63d0183"
   },
   "outputs": [],
   "source": [
    "# Setup the tensorflow...\n",
    "config = tf.ConfigProto()\n",
    "config.gpu_options.allow_growth = True\n",
    "sess = tf.Session(config=config)\n",
    "\n",
    "print(\"Preparing the training & validation data...\")\n",
    "train_data, train_labels, filelist1, glen1 = setup_inputs(sess, \"train.txt\", \"\", batch_size=batch_size)\n",
    "val_data, val_labels, filelist2, tlen1 = setup_inputs(sess, \"val.txt\", \"\",isTest=True, batch_size=batch_size)\n",
    "\n",
    "max_iter = glen1*400\n",
    "print(\"Preparing the training model with learning rate = %.5f...\" % (lr))\n",
    "\n",
    "\n",
    "with tf.variable_scope(\"ResNet\") as scope:\n",
    "  pred = ResNet(train_data, True)\n",
    "  scope.reuse_variables()\n",
    "  valpred = ResNet(val_data, False)\n",
    "\n",
    "with tf.name_scope('Loss_and_Accuracy'):\n",
    "  update_ops = tf.get_collection(tf.GraphKeys.UPDATE_OPS)\n",
    "  with tf.control_dependencies(update_ops):\n",
    "    cost = tf.losses.sparse_softmax_cross_entropy(labels=train_labels, logits=pred)\n",
    "    optimizer = tf.train.AdamOptimizer(learning_rate).minimize(cost)\n",
    "    \n",
    "  correct_prediction = tf.equal(tf.argmax(pred, 1), train_labels)\n",
    "  accuracy = tf.reduce_mean(tf.cast(correct_prediction, tf.float32))\n",
    "\n",
    "  \n",
    "  correct_prediction2 = tf.equal(tf.argmax(valpred,1), val_labels)\n",
    "  accuracy2 = tf.reduce_mean(tf.cast(correct_prediction2, tf.float32))\n",
    "  \n",
    "  tf.summary.scalar('Loss', cost)\n",
    "  tf.summary.scalar('Training_Accuracy', accuracy)"
   ]
  },
  {
   "cell_type": "code",
   "execution_count": null,
   "metadata": {
    "colab": {
     "autoexec": {
      "startup": false,
      "wait_interval": 0
     },
     "base_uri": "https://localhost:8080/",
     "height": 340
    },
    "colab_type": "code",
    "id": "3CGfQ_Cbzh0c",
    "outputId": "9eb47eb1-8edf-4658-b376-1d190a2b1b12",
    "scrolled": true
   },
   "outputs": [],
   "source": [
    "saver = tf.train.Saver()\n",
    "init = tf.global_variables_initializer()\n",
    "sess.run(init)\n",
    "step = 0\n",
    "writer = tf.summary.FileWriter(\"/tmp/log2\", sess.graph)\n",
    "summaries = tf.summary.merge_all()\n",
    "\n",
    "print(\"We are going to train the ImageNet model based on ResNet!!!\")\n",
    "while (step * batch_size) < max_iter:\n",
    "    epoch1=np.floor((step*batch_size)/glen1)\n",
    "    if (((step*batch_size)%glen1 < batch_size) & (lr==1e-3) & (epoch1 >2)):\n",
    "        lr /= 10\n",
    "\n",
    "    sess.run(optimizer,  feed_dict={learning_rate: lr, tst: True})\n",
    "\n",
    "    if (step % 15000==1) & (step>15000):\n",
    "        save_path = saver.save(sess, \"tf_resnet_model_iter\" + str(step) + \".ckpt\")\n",
    "        print(\"Model saved in file at iteration %d: %s\" % (step*batch_size,save_path))\n",
    "\n",
    "    if step % display_step == 1:\n",
    "        # calculate the loss\n",
    "        \n",
    "        loss, acc, summaries_string = sess.run([cost, accuracy, summaries], feed_dict={ tst: True})\n",
    "        print(\"Iter=%d/epoch=%d, Loss=%.6f, Training Accuracy=%.6f, lr=%f\" % (step*batch_size, epoch1 ,loss, acc, lr))\n",
    "        writer.add_summary(summaries_string, step)\n",
    "        \n",
    "#         if step*batch_size==82048:\n",
    "#         import pdb\n",
    "#         pdb.set_trace()\n",
    "\n",
    "  \n",
    "    step += 1\n",
    "print(\"Optimization Finished!\")\n",
    "save_path = saver.save(sess, \"tf_resnet_model.ckpt\")\n",
    "print(\"Model saved in file: %s\" % save_path)"
   ]
  },
  {
   "cell_type": "code",
   "execution_count": null,
   "metadata": {
    "colab": {
     "autoexec": {
      "startup": false,
      "wait_interval": 0
     }
    },
    "colab_type": "code",
    "id": "AOQOeejKzh0f"
   },
   "outputs": [],
   "source": [
    "exit()"
   ]
  }
 ],
 "metadata": {
  "accelerator": "GPU",
  "colab": {
   "collapsed_sections": [],
   "default_view": {},
   "name": "ResNet_init.ipynb",
   "provenance": [
    {
     "file_id": "1VL1sK4Hz_IsuhkyQRc8h2SD3w90OF1yp",
     "timestamp": 1526642217104
    }
   ],
   "version": "0.3.2",
   "views": {}
  },
  "kernelspec": {
   "display_name": "Python 3",
   "language": "python",
   "name": "python3"
  },
  "language_info": {
   "codemirror_mode": {
    "name": "ipython",
    "version": 3
   },
   "file_extension": ".py",
   "mimetype": "text/x-python",
   "name": "python",
   "nbconvert_exporter": "python",
   "pygments_lexer": "ipython3",
   "version": "3.6.7"
  }
 },
 "nbformat": 4,
 "nbformat_minor": 1
}
