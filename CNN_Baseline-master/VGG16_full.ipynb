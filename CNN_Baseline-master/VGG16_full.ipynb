{
 "cells": [
  {
   "cell_type": "code",
   "execution_count": null,
   "metadata": {
    "colab": {
     "autoexec": {
      "startup": false,
      "wait_interval": 0
     }
    },
    "colab_type": "code",
    "id": "Hr6uu3lMzh0M"
   },
   "outputs": [],
   "source": [
    "import tensorflow as tf\n",
    "import numpy as np\n",
    "import os\n",
    "import cv2\n",
    "import numpy as np\n",
    "import random as rn\n",
    "import tensorflow as tf\n",
    "import threading\n",
    "import time\n",
    "\n",
    "global n_classes\n",
    "n_classes = 50\n"
   ]
  },
  {
   "cell_type": "code",
   "execution_count": null,
   "metadata": {},
   "outputs": [],
   "source": [
    "#==========================================================================\n",
    "#=============Reading data in multithreading manner========================\n",
    "#==========================================================================\n",
    "def read_labeled_image_list(image_list_file):\n",
    "    \"\"\"Reads a .txt file containing pathes and labeles\n",
    "    Args:\n",
    "       image_list_file: a .txt file with one /path/to/image per line\n",
    "       label: optionally, if set label will be pasted after each line\n",
    "    Returns:\n",
    "       List with all filenames in file image_list_file\n",
    "    \"\"\"\n",
    "    f = open(image_list_file, 'r')\n",
    "    filenames = []\n",
    "    labels = []\n",
    "\n",
    "    for line in f:\n",
    "        filename, label = line[:-1].split(' ')\n",
    "        filenames.append(filename)\n",
    "        labels.append(int(label))\n",
    "        \n",
    "    return filenames, labels\n",
    "    \n",
    "    \n",
    "def read_images_from_disk(input_queue, size1=512):\n",
    "    \"\"\"Consumes a single filename and label as a ' '-delimited string.\n",
    "    Args:\n",
    "      filename_and_label_tensor: A scalar string tensor.\n",
    "    Returns:\n",
    "      Two tensors: the decoded image, and the string label.\n",
    "    \"\"\"\n",
    "    label = input_queue[1]\n",
    "    fn=input_queue[0]\n",
    "    file_contents = tf.read_file(input_queue[0])\n",
    "    example = tf.image.decode_jpeg(file_contents, channels=3)\n",
    "    example=tf.image.resize_images(example, [size1,size1])\n",
    "    return example, label, fn\n",
    "\n",
    "\n",
    "def setup_inputs(sess, filenames, image_size=256, crop_size=224, isTest=False, batch_size=64):\n",
    "    \n",
    "    # Read each image file\n",
    "    image_list, label_list = read_labeled_image_list(filenames)\n",
    "\n",
    "    images = tf.cast(image_list, tf.string)\n",
    "    labels = tf.cast(label_list, tf.int64)\n",
    "     # Makes an input queue\n",
    "    if isTest is False:\n",
    "        isShuffle = True\n",
    "        numThr = 4\n",
    "    else:\n",
    "        isShuffle = False\n",
    "        numThr = 1\n",
    "        \n",
    "    input_queue = tf.train.slice_input_producer([images, labels], shuffle=isShuffle)\n",
    "    image, y,fn = read_images_from_disk(input_queue)\n",
    "\n",
    "    channels = 3\n",
    "    image.set_shape([None, None, channels])\n",
    "        \n",
    "    if isTest is False:\n",
    "        image = tf.image.random_flip_left_right(image)\n",
    "        image = tf.image.random_flip_up_down(image)\n",
    "        image = tf.image.random_saturation(image, .95, 1.05)\n",
    "        image = tf.image.random_brightness(image, .05)\n",
    "        image = tf.image.random_contrast(image, .95, 1.05)\n",
    "        image = tf.random_crop(image, [crop_size, crop_size, 3])\n",
    "    else:\n",
    "        image = tf.random_crop(image, [crop_size, crop_size, 3])\n",
    "    \n",
    "    image = tf.cast(image, tf.float32)/255.0\n",
    "    \n",
    "    image, y,fn = tf.train.batch([image, y, fn], batch_size=batch_size, capacity=batch_size*3, num_threads=numThr, name='labels_and_images')\n",
    "    tf.train.start_queue_runners(sess=sess)\n",
    "\n",
    "    return image, y, len(label_list)\n"
   ]
  },
  {
   "cell_type": "code",
   "execution_count": null,
   "metadata": {
    "colab": {
     "autoexec": {
      "startup": false,
      "wait_interval": 0
     }
    },
    "colab_type": "code",
    "id": "Z-Oekfd9zh0Q"
   },
   "outputs": [],
   "source": [
    "def activation(x,name=\"activation\"):\n",
    "    return tf.nn.relu(x, name=name)\n",
    "    \n",
    "def conv2d(name, l_input, channels, ks, s, p, tst):\n",
    "    pre_channels=l_input.get_shape().as_list()[3]\n",
    "    w,b =initializer(pre_channels, channels, name+\"conv\", ksize=1)\n",
    "    \n",
    "    l_input = tf.nn.conv2d(l_input, w, strides=[1,s,s,1], padding=p, name=name)\n",
    "    l_input = activation(l_input+b)\n",
    "    l_input = batchnorm(l_input, tst, name)\n",
    "    return l_input\n",
    "\n",
    "def batchnorm(conv, isTraining, name='bn'):\n",
    "    return tf.layers.batch_normalization(conv, training=isTraining, momentum = 0.9, name=\"bn\"+name)\n",
    "\n",
    "def initializer(in_filters, out_filters, name, ksize=3):\n",
    "    w1 = tf.get_variable(name+\"W\", [ksize, ksize, in_filters, out_filters], initializer=tf.glorot_uniform_initializer())\n",
    "    b1 = tf.get_variable(name+\"B\", [out_filters], initializer=tf.glorot_uniform_initializer())\n",
    "    return w1, b1\n",
    "\n",
    "def max_pool(name, l_input, k, s):\n",
    "    return tf.layers.max_pooling2d(l_input, k,s, padding='VALID', name=name+'p')"
   ]
  },
  {
   "cell_type": "code",
   "execution_count": null,
   "metadata": {
    "colab": {
     "autoexec": {
      "startup": false,
      "wait_interval": 0
     }
    },
    "colab_type": "code",
    "id": "94VSiHqhzh0S"
   },
   "outputs": [],
   "source": [
    "   \n",
    "def vgg16(_X, batch_size, tst):\n",
    "    conv1 = conv2d('conv1', _X, 64, 3, 1, 'SAME', tst)\n",
    "    conv2 = conv2d('conv2', conv1, 64, 3, 1, 'SAME', tst)\n",
    "    pool3 = max_pool('pool3', conv2, k=3,s=2) \n",
    "    conv3 = conv2d('conv3', pool3, 128, 3, 1, 'SAME', tst)\n",
    "    conv4 = conv2d('conv4', conv3, 128, 3, 1, 'SAME', tst)\n",
    "    pool5 = max_pool('pool5', conv4, k=3,s=2)\n",
    "    conv6 = conv2d('conv6', pool5, 256, 3, 1, 'SAME', tst)\n",
    "    conv7 = conv2d('conv7', conv6, 256, 3, 1, 'SAME', tst)\n",
    "    pool8 = max_pool('pool8', conv7, k=3,s=2)\n",
    "    conv9 = conv2d('conv9', pool8, 512, 3, 1, 'SAME', tst)\n",
    "    conv10 = conv2d('conv10', conv9, 512, 3, 1, 'SAME', tst)\n",
    "    conv11 = conv2d('conv11', conv10, 512, 3, 1, 'SAME', tst)\n",
    "    pool12 = max_pool('pool12', conv11, k=3,s=2)\n",
    "    conv13 = conv2d('conv13', pool12, 512, 3, 1, 'SAME', tst)\n",
    "    conv14 = conv2d('conv14', conv13, 512, 3, 1, 'SAME', tst)\n",
    "    conv15 = conv2d('conv15', conv14, 512, 3, 1, 'SAME', tst)\n",
    "    pool16 = max_pool('pool16', conv15, k=3,s=2)\n",
    "\n",
    "    # Find current size of conv5 to fit the requirement of FC1.\n",
    "    sizes = pool16.get_shape().as_list()\n",
    "    neurons =  sizes[1]*sizes[2]*sizes[3]\n",
    "    dense1 = tf.reshape(pool16, [batch_size, neurons]) # Reshape conv5 output to fit dense layer input\n",
    "    wei_den1 = tf.get_variable(\"FC14w\", [neurons, 4096], initializer=tf.glorot_uniform_initializer())\n",
    "    b_den1 = tf.get_variable(\"FC14b\", [4096], initializer=tf.glorot_uniform_initializer())\n",
    "    dense1 = tf.nn.relu(tf.matmul(dense1, wei_den1) + b_den1, name='fc1') # Relu activation\n",
    "    \n",
    "    wei_den2 = tf.get_variable(\"FC15w\", [4096, 4096], initializer=tf.glorot_uniform_initializer())\n",
    "    b_den2 = tf.get_variable(\"FC15b\", [4096], initializer=tf.glorot_uniform_initializer())\n",
    "    dense2 = tf.nn.relu(tf.matmul(dense1, wei_den2) + b_den2, name='fc2') # Relu activation\n",
    "    \n",
    "    wei_den3 = tf.get_variable(\"FC16w\", [4096, n_classes], initializer=tf.glorot_uniform_initializer())\n",
    "    b_den3 = tf.get_variable(\"FC16b\", [n_classes], initializer=tf.glorot_uniform_initializer())\n",
    "    out = tf.matmul(dense2, wei_den3) + b_den3 \n",
    "\n",
    "    return out"
   ]
  },
  {
   "cell_type": "code",
   "execution_count": null,
   "metadata": {
    "colab": {
     "autoexec": {
      "startup": false,
      "wait_interval": 0
     }
    },
    "colab_type": "code",
    "id": "tCNUC9U1zh0U"
   },
   "outputs": [],
   "source": []
  },
  {
   "cell_type": "code",
   "execution_count": null,
   "metadata": {
    "colab": {
     "autoexec": {
      "startup": false,
      "wait_interval": 0
     }
    },
    "colab_type": "code",
    "id": "h7AtFd4czh0W"
   },
   "outputs": [],
   "source": [
    "# Training setting\n",
    "batch_size = 4\n",
    "display_step = 80"
   ]
  },
  {
   "cell_type": "code",
   "execution_count": null,
   "metadata": {
    "colab": {
     "autoexec": {
      "startup": false,
      "wait_interval": 0
     }
    },
    "colab_type": "code",
    "id": "7LCc7xsQzh0Y"
   },
   "outputs": [],
   "source": [
    "learning_rate = tf.placeholder(tf.float32)      # Learning rate to be fed\n",
    "lr = 1e-2\n",
    "sess = tf.Session()\n",
    "\n",
    "\n",
    "# Learning rate start\n",
    "\n",
    "train_data, train_lab, glen1 = setup_inputs(sess,'train.txt', batch_size=batch_size)\n",
    "val_data, val_lab, vlen1 =  setup_inputs(sess,'val.txt', isTest=True, batch_size=batch_size)\n",
    "training_iters = glen1*600\n",
    "\n",
    "with tf.variable_scope(\"Vgg16Net\") as scope:\n",
    "        pred = vgg16(train_data,batch_size, True)\n",
    "        scope.reuse_variables()\n",
    "        valpred = vgg16(val_data,batch_size, False)\n",
    "update_ops = tf.get_collection(tf.GraphKeys.UPDATE_OPS)\n",
    "with tf.control_dependencies(update_ops):\n",
    "    cost = tf.losses.sparse_softmax_cross_entropy(labels=train_lab, logits=pred)\n",
    "    optimizer = tf.train.GradientDescentOptimizer(learning_rate=learning_rate).minimize(cost)\n",
    "correct_prediction = tf.equal(tf.argmax(pred, 1), train_lab)\n",
    "accuracy = tf.reduce_mean(tf.cast(correct_prediction, tf.float32))\n",
    "\n",
    "correct_prediction2 = tf.equal(tf.argmax(valpred, 1), val_lab)\n",
    "accuracy2 = tf.reduce_mean(tf.cast(correct_prediction2, tf.float32))"
   ]
  },
  {
   "cell_type": "code",
   "execution_count": null,
   "metadata": {},
   "outputs": [],
   "source": []
  },
  {
   "cell_type": "code",
   "execution_count": null,
   "metadata": {
    "colab": {
     "autoexec": {
      "startup": false,
      "wait_interval": 0
     }
    },
    "colab_type": "code",
    "id": "3CGfQ_Cbzh0c"
   },
   "outputs": [],
   "source": [
    "\n",
    "sess.run(tf.global_variables_initializer())\n",
    "saver = tf.train.Saver()\n",
    "\n",
    "step = 0\n",
    "while step * batch_size < training_iters:\n",
    "    epoch1=np.floor((step*batch_size)/glen1)\n",
    "\n",
    "    if (((step*batch_size)%glen1 < batch_size) & (lr==1e-3) & (epoch1 >500)):\n",
    "        lr /= 10\n",
    "\n",
    "    # Get a batch\n",
    "    sess.run(optimizer,  feed_dict={learning_rate: lr})\n",
    "\n",
    "    if (step % 15000==1) & (step>15000):\n",
    "        save_path = saver.save(sess, \"./tf_vgg16_model_iter\" + str(step) + \".ckpt\")\n",
    "        print(\"Model saved in file at iteration %d: %s\" % (step*batch_size,save_path))\n",
    "\n",
    "    if step % display_step == 1:\n",
    "        # calculate the loss\n",
    "        loss,acc = sess.run([cost, accuracy])\n",
    "        acc2 = []\n",
    "        \n",
    "        for j in range(int(np. ceil(vlen1 / batch_size))):\n",
    "            acc2.append(sess.run(accuracy2))\n",
    "        acc2 = np.mean(acc2)\n",
    "\n",
    "        print(\"Iter=%d/epoch=%d, Training Accuracy=%.6f, Loss=%.6g,Test Accuracy=%.6f, lr=%f\" % (step*batch_size, epoch1, acc, loss, acc2, lr))\n",
    "    step += 1\n",
    "print(\"Optimization Finished!\")\n",
    "save_path = saver.save(sess, \"./tf_vgg16_model.ckpt\")\n",
    "print(\"Model saved in file: %s\" % save_path)"
   ]
  },
  {
   "cell_type": "code",
   "execution_count": null,
   "metadata": {
    "colab": {
     "autoexec": {
      "startup": false,
      "wait_interval": 0
     }
    },
    "colab_type": "code",
    "id": "AOQOeejKzh0f"
   },
   "outputs": [],
   "source": [
    "exit()"
   ]
  },
  {
   "cell_type": "code",
   "execution_count": null,
   "metadata": {
    "colab": {
     "autoexec": {
      "startup": false,
      "wait_interval": 0
     }
    },
    "colab_type": "code",
    "id": "sr0obIo2zh0g"
   },
   "outputs": [],
   "source": []
  }
 ],
 "metadata": {
  "accelerator": "GPU",
  "colab": {
   "collapsed_sections": [],
   "default_view": {},
   "name": "CIFAR10_CNN.ipynb",
   "provenance": [],
   "version": "0.3.2",
   "views": {}
  },
  "kernelspec": {
   "display_name": "Python 3",
   "language": "python",
   "name": "python3"
  },
  "language_info": {
   "codemirror_mode": {
    "name": "ipython",
    "version": 3
   },
   "file_extension": ".py",
   "mimetype": "text/x-python",
   "name": "python",
   "nbconvert_exporter": "python",
   "pygments_lexer": "ipython3",
   "version": "3.6.7"
  }
 },
 "nbformat": 4,
 "nbformat_minor": 1
}
